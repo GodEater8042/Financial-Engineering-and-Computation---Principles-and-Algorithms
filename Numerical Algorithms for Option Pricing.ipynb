{
 "cells": [
  {
   "cell_type": "markdown",
   "metadata": {},
   "source": [
    "# Binomial Option Pricing Method for European Options\n",
    "\n",
    "### S = Stock Price\n",
    "### u , d , X(Strike Price) , n , r \n"
   ]
  },
  {
   "cell_type": "code",
   "execution_count": 1,
   "metadata": {},
   "outputs": [
    {
     "data": {
      "text/plain": [
       "3"
      ]
     },
     "execution_count": 1,
     "metadata": {},
     "output_type": "execute_result"
    }
   ],
   "source": [
    "S = 160\n",
    "u = 1.5\n",
    "d = 0.5\n",
    "r = 0.18 \n",
    "X = 150\n",
    "n = 3"
   ]
  },
  {
   "cell_type": "code",
   "execution_count": 2,
   "metadata": {},
   "outputs": [
    {
     "data": {
      "text/plain": [
       "4×4 Array{Float64,2}:\n",
       " 0.0  0.0  0.0  0.0\n",
       " 0.0  0.0  0.0  0.0\n",
       " 0.0  0.0  0.0  0.0\n",
       " 0.0  0.0  0.0  0.0"
      ]
     },
     "execution_count": 2,
     "metadata": {},
     "output_type": "execute_result"
    }
   ],
   "source": [
    "R = exp(r)\n",
    "p = (R-d)/(u-d)\n",
    "C = zeros(Float64,(4,4)) # Array of 4*4 "
   ]
  },
  {
   "cell_type": "code",
   "execution_count": 3,
   "metadata": {},
   "outputs": [
    {
     "data": {
      "text/plain": [
       "4×4 Array{Float64,2}:\n",
       " 84.7478  141.105   234.709   390.0\n",
       "  0.0      10.1745   17.4709   30.0\n",
       "  0.0       0.0       0.0       0.0\n",
       "  0.0       0.0       0.0       0.0"
      ]
     },
     "execution_count": 3,
     "metadata": {},
     "output_type": "execute_result"
    }
   ],
   "source": [
    "for i in 1:n+1\n",
    "    C[i,n+1] = max(0,(S*(u^(n+1-i))*(d^(i-1)))-X)\n",
    "end\n",
    "for j in n:-1:1\n",
    "    for i in 1:j\n",
    "        C[i,j] = (p*C[i,j+1] + (1-p)*C[i+1,j+1])/R\n",
    "    end\n",
    "end\n",
    "C\n",
    "\n"
   ]
  },
  {
   "cell_type": "markdown",
   "metadata": {},
   "source": [
    "## Time Complexity of this Algorithm is  $$ O(n^2) $$\n",
    "## Space Complexity of this Algorithm is $$ O(n^2) $$"
   ]
  },
  {
   "cell_type": "markdown",
   "metadata": {},
   "source": [
    "### We now create a function and verify with the previous results of Call Option Price\n",
    "### Binomial Option Pricing Model Function a.ka. BOPM"
   ]
  },
  {
   "cell_type": "code",
   "execution_count": 4,
   "metadata": {},
   "outputs": [
    {
     "data": {
      "text/plain": [
       "BOPM (generic function with 1 method)"
      ]
     },
     "execution_count": 4,
     "metadata": {},
     "output_type": "execute_result"
    }
   ],
   "source": [
    "function BOPM(StockPrice,StrikePrice,u,d,r,N)\n",
    "    R = exp(r)\n",
    "    p = (R-d)/(u-d)\n",
    "    C = zeros(Float64,(N+1,N+1)) \n",
    "    for i in 1:N+1\n",
    "    C[i,N+1] = max(0,(StockPrice*(u^(N+1-i))*(d^(i-1)))-StrikePrice)\n",
    "    end\n",
    "    for j in N:-1:1\n",
    "     for i in 1:j\n",
    "        C[i,j] = (p*C[i,j+1] + (1-p)*C[i+1,j+1])/R\n",
    "     end\n",
    "   end\n",
    "    return C[1,1]\n",
    "end\n"
   ]
  },
  {
   "cell_type": "code",
   "execution_count": 33,
   "metadata": {
    "scrolled": true
   },
   "outputs": [
    {
     "data": {
      "text/plain": [
       "84.7478041259214"
      ]
     },
     "execution_count": 33,
     "metadata": {},
     "output_type": "execute_result"
    }
   ],
   "source": [
    "C = BOPM(160,150,1.5,0.5,0.18,3)"
   ]
  },
  {
   "cell_type": "markdown",
   "metadata": {},
   "source": [
    "## We notice that the Call Option Price is given as:-\n",
    "\\begin{equation*}\n",
    "C = \\frac{\\sum_{j=0}^n {n \\choose j} p^j (1-p)^{ n-j} \\mathbf{(max(0,Su^jd^{n-j} - X)}}{R^n}\n",
    "\\end{equation*}"
   ]
  },
  {
   "cell_type": "markdown",
   "metadata": {},
   "source": [
    "## Optimisimg the Algorithm in 2 steps :-\n",
    "### 1.)Find \"a\" the minimum number of upward price moves for the call to finish in the money\n",
    "\n",
    "\\begin{equation*}\n",
    "a = \\frac{ln(X/(S)(d^n))}{ln(u/d)  } \n",
    "\\text{such that $Su^ad^{n-a} >= X$}\n",
    "\\end{equation*}\n",
    "\n",
    "### 2.) Equation for the Call Option Price is :-\n",
    "\n",
    "\\begin{equation*}\n",
    "C = \\frac{\\sum_{j=a}^n {n \\choose j} p^j (1-p)^{ n-j} \\mathbf{(max(0,Su^jd^{n-j} - X)}}{R^n}\n",
    "\\end{equation*}"
   ]
  },
  {
   "cell_type": "code",
   "execution_count": 50,
   "metadata": {},
   "outputs": [
    {
     "data": {
      "text/plain": [
       "BOPMoptimised (generic function with 1 method)"
      ]
     },
     "execution_count": 50,
     "metadata": {},
     "output_type": "execute_result"
    }
   ],
   "source": [
    "function BOPMoptimised(StockPrice,StrikePrice,u,d,r,N)\n",
    "    p = (exp(r)-d)/(u-d)\n",
    "    a = ceil(log(StrikePrice/(StockPrice*(d^N)))/log(u/d))\n",
    "    R = exp(N*r)\n",
    "    b = p^N\n",
    "    D = StockPrice*(u^N)\n",
    "    C =  b * (D - StrikePrice)/R\n",
    "    for j in N:-1:a+1\n",
    "        b = (b *(1-p)*j)/((N-j+1)*p)\n",
    "        D = D * (d/u)\n",
    "        C = C + (b * (D - StrikePrice)/R)\n",
    "    end\n",
    "    return C\n",
    "end"
   ]
  },
  {
   "cell_type": "code",
   "execution_count": 95,
   "metadata": {},
   "outputs": [
    {
     "data": {
      "text/plain": [
       "84.74780412592142"
      ]
     },
     "execution_count": 95,
     "metadata": {},
     "output_type": "execute_result"
    }
   ],
   "source": [
    "Copt = BOPMoptimised(160,150,1.5,0.5,0.18,3)"
   ]
  },
  {
   "cell_type": "markdown",
   "metadata": {},
   "source": [
    "## Time Complexity of this Algorithm is  $$ O(n-a) $$\n",
    "## Space Complexity of this Algorithm is $$ O(1) $$"
   ]
  },
  {
   "cell_type": "markdown",
   "metadata": {},
   "source": [
    "## Benchmarking Results"
   ]
  },
  {
   "cell_type": "code",
   "execution_count": 69,
   "metadata": {},
   "outputs": [
    {
     "data": {
      "text/plain": [
       "(84.7478041259214, 6.414e-6, 384, 0.0, Base.GC_Diff(384, 0, 0, 6, 0, 0, 0, 0, 0))"
      ]
     },
     "execution_count": 69,
     "metadata": {},
     "output_type": "execute_result"
    }
   ],
   "source": [
    "(@timed BOPM(160,150,1.5,0.5,0.18,3))"
   ]
  },
  {
   "cell_type": "code",
   "execution_count": 79,
   "metadata": {},
   "outputs": [],
   "source": [
    "time     = zeros(Float64,1000)\n",
    "space    = zeros(Float64,1000)\n",
    "timeNew  = zeros(Float64,1000)\n",
    "spaceNew = zeros(Float64,1000)\n",
    "for i in 1:1000\n",
    "    time[i]     = (@timed BOPM(160,150,1.5,0.5,0.18,i))[2]\n",
    "    space[i]    = (@timed BOPM(160,150,1.5,0.5,0.18,i))[3]\n",
    "    timeNew[i]  = (@timed BOPMoptimised(160,150,1.5,0.5,0.18,i))[2]\n",
    "    spaceNew[i] = (@timed BOPMoptimised(160,150,1.5,0.5,0.18,i))[3]\n",
    "end"
   ]
  },
  {
   "cell_type": "code",
   "execution_count": 80,
   "metadata": {},
   "outputs": [
    {
     "data": {
      "text/plain": [
       "1000-element Array{Float64,1}:\n",
       " 6.414e-6  \n",
       " 1.711e-6  \n",
       " 4.28e-7   \n",
       " 8.56e-7   \n",
       " 8.55e-7   \n",
       " 1.283e-6  \n",
       " 1.283e-6  \n",
       " 7.698e-6  \n",
       " 2.566e-6  \n",
       " 2.138e-6  \n",
       " 2.566e-6  \n",
       " 2.994e-6  \n",
       " 3.421e-6  \n",
       " ⋮         \n",
       " 0.00611417\n",
       " 0.00581566\n",
       " 0.0105246 \n",
       " 0.00664317\n",
       " 0.00603548\n",
       " 0.010111  \n",
       " 0.00621851\n",
       " 0.00581566\n",
       " 0.0100028 \n",
       " 0.00623476\n",
       " 0.0058456 \n",
       " 0.0108748 "
      ]
     },
     "execution_count": 80,
     "metadata": {},
     "output_type": "execute_result"
    }
   ],
   "source": [
    "time"
   ]
  },
  {
   "cell_type": "code",
   "execution_count": 81,
   "metadata": {},
   "outputs": [
    {
     "data": {
      "text/plain": [
       "1000-element Array{Float64,1}:\n",
       " 6.843e-6 \n",
       " 8.55e-7  \n",
       " 1.283e-6 \n",
       " 4.28e-7  \n",
       " 8.56e-7  \n",
       " 8.55e-7  \n",
       " 8.56e-7  \n",
       " 1.283e-6 \n",
       " 8.55e-7  \n",
       " 8.55e-7  \n",
       " 8.55e-7  \n",
       " 8.55e-7  \n",
       " 8.55e-7  \n",
       " ⋮        \n",
       " 1.0691e-5\n",
       " 9.409e-6 \n",
       " 2.8225e-5\n",
       " 9.408e-6 \n",
       " 9.408e-6 \n",
       " 9.409e-6 \n",
       " 1.0263e-5\n",
       " 9.408e-6 \n",
       " 8.981e-6 \n",
       " 9.409e-6 \n",
       " 9.409e-6 \n",
       " 9.408e-6 "
      ]
     },
     "execution_count": 81,
     "metadata": {},
     "output_type": "execute_result"
    }
   ],
   "source": [
    "timeNew"
   ]
  },
  {
   "cell_type": "code",
   "execution_count": 82,
   "metadata": {},
   "outputs": [
    {
     "data": {
      "text/plain": [
       "1000-element Array{Float64,1}:\n",
       "  112.0      \n",
       "  160.0      \n",
       "  208.0      \n",
       "  336.0      \n",
       "  400.0      \n",
       "  544.0      \n",
       "  624.0      \n",
       "  736.0      \n",
       "  896.0      \n",
       " 1088.0      \n",
       " 1248.0      \n",
       " 1488.0      \n",
       " 1808.0      \n",
       "    ⋮        \n",
       "    7.84091e6\n",
       "    7.85678e6\n",
       "    7.87259e6\n",
       "    7.88853e6\n",
       "    7.9044e6 \n",
       "    7.92034e6\n",
       "    7.93621e6\n",
       "    7.95221e6\n",
       "    7.96814e6\n",
       "    7.98414e6\n",
       "    8.00008e6\n",
       "    8.01614e6"
      ]
     },
     "execution_count": 82,
     "metadata": {},
     "output_type": "execute_result"
    }
   ],
   "source": [
    "space"
   ]
  },
  {
   "cell_type": "code",
   "execution_count": 83,
   "metadata": {},
   "outputs": [
    {
     "data": {
      "text/plain": [
       "1000-element Array{Float64,1}:\n",
       " 0.0\n",
       " 0.0\n",
       " 0.0\n",
       " 0.0\n",
       " 0.0\n",
       " 0.0\n",
       " 0.0\n",
       " 0.0\n",
       " 0.0\n",
       " 0.0\n",
       " 0.0\n",
       " 0.0\n",
       " 0.0\n",
       " ⋮  \n",
       " 0.0\n",
       " 0.0\n",
       " 0.0\n",
       " 0.0\n",
       " 0.0\n",
       " 0.0\n",
       " 0.0\n",
       " 0.0\n",
       " 0.0\n",
       " 0.0\n",
       " 0.0\n",
       " 0.0"
      ]
     },
     "execution_count": 83,
     "metadata": {},
     "output_type": "execute_result"
    }
   ],
   "source": [
    "spaceNew"
   ]
  },
  {
   "cell_type": "code",
   "execution_count": 97,
   "metadata": {},
   "outputs": [
    {
     "data": {
      "image/png": "[encoded data removed]"
     },
     "execution_count": 97,
     "metadata": {},
     "output_type": "execute_result"
    }
   ],
   "source": [
    "using Plots\n",
    "pyplot()\n",
    "p = plot(x = 1:1000,time,title = \"Time Complexity Graph\",label = \"O(n^2) BOPM\")\n",
    "plot!(p,x = 1:1000,timeNew,label = \"Optimised O(n-a) BOPM\")"
   ]
  },
  {
   "cell_type": "code",
   "execution_count": 98,
   "metadata": {},
   "outputs": [
    {
     "data": {
      "image/png": "[encoded data removed]"
     },
     "execution_count": 98,
     "metadata": {},
     "output_type": "execute_result"
    }
   ],
   "source": [
    "using Plots\n",
    "pyplot()\n",
    "p = plot(x = 1:1000,space,title = \"Space Complexity\",label = \"O(n^2) BOPM\")\n",
    "plot!(p,x = 1:1000,spaceNew, label = \"O(1) BOPM\")"
   ]
  },
  {
   "cell_type": "code",
   "execution_count": null,
   "metadata": {},
   "outputs": [],
   "source": []
  }
 ],
 "metadata": {
  "kernelspec": {
   "display_name": "Julia 0.6.4",
   "language": "julia",
   "name": "julia-0.6"
  },
  "language_info": {
   "file_extension": ".jl",
   "mimetype": "application/julia",
   "name": "julia",
   "version": "0.6.4"
  }
 },
 "nbformat": 4,
 "nbformat_minor": 2
}
