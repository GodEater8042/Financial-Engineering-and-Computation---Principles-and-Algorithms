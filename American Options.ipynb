{
 "cells": [
  {
   "cell_type": "markdown",
   "metadata": {},
   "source": [
    "# American Options"
   ]
  },
  {
   "cell_type": "markdown",
   "metadata": {},
   "source": [
    "## Native Implementation using a Double For Loop :-\n",
    "## O(n^2) Time and Space Complexity"
   ]
  },
  {
   "cell_type": "code",
   "execution_count": 1,
   "metadata": {},
   "outputs": [
    {
     "data": {
      "text/plain": [
       "AmericanOptionPriceDoubleLoop (generic function with 1 method)"
      ]
     },
     "execution_count": 1,
     "metadata": {},
     "output_type": "execute_result"
    }
   ],
   "source": [
    "function AmericanOptionPriceDoubleLoop(S,X,u,d,r,N)\n",
    "    R = exp(r)\n",
    "    p = (R-d)/(u-d)\n",
    "    P = zeros(N+1,N+1)\n",
    "    for i in 1:N+1\n",
    "        P[i,N+1] = max(0, X - (S*(u^(N+1-i)))*(d^(i-1)))\n",
    "    end\n",
    "    for j in N:-1:1\n",
    "        for i in 1:j\n",
    "            P[i,j] = max(((p*P[i,j+1] + (1-p)*P[i+1,j+1]))/R , ( X - (S*(u^( j-i)))*(d^(i-1))))\n",
    "        end\n",
    "    end\n",
    "    return P[1,1]\n",
    "end"
   ]
  },
  {
   "cell_type": "markdown",
   "metadata": {},
   "source": [
    "## Optimised Implementation using O(n) Space"
   ]
  },
  {
   "cell_type": "code",
   "execution_count": 3,
   "metadata": {},
   "outputs": [
    {
     "data": {
      "text/plain": [
       "AmericanOptionPrice (generic function with 1 method)"
      ]
     },
     "execution_count": 3,
     "metadata": {},
     "output_type": "execute_result"
    }
   ],
   "source": [
    "function AmericanOptionPrice(S,X,u,d,r,N)\n",
    "    R = exp(r)\n",
    "    p = (R-d)/(u-d)\n",
    "    P = zeros(N+1)\n",
    "    for i in 1:N+1\n",
    "        P[i] = max(0, X - (S*(u^(N+1-i)))*(d^(i-1)))\n",
    "    end\n",
    "    for j in N:-1:1\n",
    "        for i in 1:j\n",
    "            P[i] = max(((p*P[i] + (1-p)*P[i+1]))/R , ( X - (S*(u^( j-i)))*(d^(i-1))))\n",
    "        end\n",
    "    end\n",
    "    return P[1]\n",
    "end"
   ]
  },
  {
   "cell_type": "code",
   "execution_count": 4,
   "metadata": {},
   "outputs": [
    {
     "data": {
      "text/plain": [
       "(148.39482816081275, 0.126977312, 9230649, 0.012784716, Base.GC_Diff(9230649, 1, 0, 163948, 26, 0, 12784716, 1, 0))"
      ]
     },
     "execution_count": 4,
     "metadata": {},
     "output_type": "execute_result"
    }
   ],
   "source": [
    "PriceDoubleLoop = @timed AmericanOptionPriceDoubleLoop(160,140,2,0.5,0.08,100)"
   ]
  },
  {
   "cell_type": "code",
   "execution_count": 5,
   "metadata": {},
   "outputs": [
    {
     "data": {
      "text/plain": [
       "(148.39482816081275, 0.04741186, 3188004, 0.0, Base.GC_Diff(3188004, 0, 0, 60297, 13, 0, 0, 0, 0))"
      ]
     },
     "execution_count": 5,
     "metadata": {},
     "output_type": "execute_result"
    }
   ],
   "source": [
    "PriceOptimised = @timed AmericanOptionPrice(160,140,2,0.5,0.08,100)"
   ]
  },
  {
   "cell_type": "code",
   "execution_count": null,
   "metadata": {},
   "outputs": [],
   "source": []
  }
 ],
 "metadata": {
  "kernelspec": {
   "display_name": "Julia 1.0.0",
   "language": "julia",
   "name": "julia-1.0"
  },
  "language_info": {
   "file_extension": ".jl",
   "mimetype": "application/julia",
   "name": "julia",
   "version": "1.0.0"
  }
 },
 "nbformat": 4,
 "nbformat_minor": 2
}
