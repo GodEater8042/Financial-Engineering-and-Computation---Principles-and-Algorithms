{
 "cells": [
  {
   "cell_type": "markdown",
   "metadata": {},
   "source": [
    "# Efficient Algorithms for Calculating Net Present Value"
   ]
  },
  {
   "cell_type": "markdown",
   "metadata": {
    "slideshow": {
     "slide_type": "slide"
    }
   },
   "source": [
    "## PV for the cash flow C1 , C2 , C3 ,......Cn and y is the yield.\n",
    "\n",
    "\\begin{equation*}\n",
    "\\text{PV} = \\frac{C_1}{(1+y)}+\\frac{C_2}{(1+y)^2}+\\cdots+\\frac{C_n}{(1+y)^n} \n",
    "\\end{equation*}"
   ]
  },
  {
   "cell_type": "code",
   "execution_count": 1,
   "metadata": {},
   "outputs": [
    {
     "data": {
      "text/plain": [
       "100000"
      ]
     },
     "execution_count": 1,
     "metadata": {},
     "output_type": "execute_result"
    }
   ],
   "source": [
    "C = collect(1:1:100000) #Creating a random sequence of Cash FLows using collect function in Julia\n",
    "length(C)"
   ]
  },
  {
   "cell_type": "code",
   "execution_count": 2,
   "metadata": {},
   "outputs": [
    {
     "data": {
      "text/plain": [
       "0.01"
      ]
     },
     "execution_count": 2,
     "metadata": {},
     "output_type": "execute_result"
    }
   ],
   "source": [
    "PV = 0\n",
    "PVnew = 0\n",
    "y = 0.01"
   ]
  },
  {
   "cell_type": "markdown",
   "metadata": {},
   "source": [
    "# Below is the basic raw implementation of Eq.1 \n",
    "\\begin{equation*}\n",
    "\\text{Time complexity} = O(n^2)\n",
    "\\end{equation*}"
   ]
  },
  {
   "cell_type": "code",
   "execution_count": 3,
   "metadata": {},
   "outputs": [
    {
     "name": "stdout",
     "output_type": "stream",
     "text": [
      "  0.057512 seconds (799.05 k allocations: 13.744 MiB, 14.22% gc time)\n"
     ]
    }
   ],
   "source": [
    "@time( \n",
    "    for i in 1:length(C)\n",
    "        PV = PV + C[i]/(1+y)^i\n",
    "    end\n",
    "        )"
   ]
  },
  {
   "cell_type": "markdown",
   "metadata": {},
   "source": [
    "# Using Horner's Method of Polynomial Evaluation \n",
    "\\begin{equation*}\n",
    "\\text{Time complexity} = O(n)\n",
    "\\end{equation*}\n",
    "\n",
    "\\begin{equation*}\n",
    "\\text{PV} = [[(\\frac{C_n}{1+y}+Cn-1)\\frac{1}{1+y}+Cn-2]\\frac{1}{1+y}+\\cdots]\\frac{1}{1+y}\n",
    "\\end{equation*}\n"
   ]
  },
  {
   "cell_type": "code",
   "execution_count": 4,
   "metadata": {},
   "outputs": [
    {
     "name": "stdout",
     "output_type": "stream",
     "text": [
      "  0.025587 seconds (698.47 k allocations: 12.184 MiB)\n"
     ]
    }
   ],
   "source": [
    "@time(\n",
    "   for j in length(C):-1:1\n",
    "        PVnew = (PVnew + C[j])/(1+y)\n",
    "   end\n",
    ")"
   ]
  },
  {
   "cell_type": "code",
   "execution_count": 5,
   "metadata": {},
   "outputs": [
    {
     "data": {
      "text/plain": [
       "10099.999999999916"
      ]
     },
     "execution_count": 5,
     "metadata": {},
     "output_type": "execute_result"
    }
   ],
   "source": [
    "PV"
   ]
  },
  {
   "cell_type": "code",
   "execution_count": 6,
   "metadata": {},
   "outputs": [
    {
     "data": {
      "text/plain": [
       "10099.9999999999"
      ]
     },
     "execution_count": 6,
     "metadata": {},
     "output_type": "execute_result"
    }
   ],
   "source": [
    "PVnew"
   ]
  },
  {
   "cell_type": "markdown",
   "metadata": {},
   "source": [
    "# Numerical Methods for Finding Yields\n"
   ]
  },
  {
   "cell_type": "markdown",
   "metadata": {},
   "source": [
    "## Solve the Equation for y  :-\n",
    "\\begin{equation*}\n",
    "f(y) = \\sum\\frac{C_t}{(1+y)^t} - P = 0\n",
    "\\end{equation*}"
   ]
  },
  {
   "cell_type": "markdown",
   "metadata": {},
   "source": [
    "## Newton Ralphson Method\n",
    "\\begin{equation*}\n",
    "x_{n+1} = x_n - \\frac{f(x)}{f'(x)}\n",
    "\\end{equation*}\n",
    " \n",
    "\\begin{equation*}\n",
    "\\text{First order derivative:-}\n",
    "f'(x) = -\\sum\\frac{tC}{(1+x)^{t+1}}\n",
    "\\end{equation*}\n",
    " "
   ]
  },
  {
   "cell_type": "code",
   "execution_count": 7,
   "metadata": {},
   "outputs": [
    {
     "data": {
      "text/plain": [
       "NPV (generic function with 1 method)"
      ]
     },
     "execution_count": 7,
     "metadata": {},
     "output_type": "execute_result"
    }
   ],
   "source": [
    "function NPV(y,C,P,n)\n",
    "    NPV = 0\n",
    "    for i in n:-1:1\n",
    "        NPV = (NPV+C)/(1+y)\n",
    "    end\n",
    "    P = NPV - P\n",
    "    return P\n",
    "end"
   ]
  },
  {
   "cell_type": "code",
   "execution_count": 8,
   "metadata": {},
   "outputs": [
    {
     "data": {
      "text/plain": [
       "-5.286954692983301"
      ]
     },
     "execution_count": 8,
     "metadata": {},
     "output_type": "execute_result"
    }
   ],
   "source": [
    "f = NPV(0.01,10,100,10)"
   ]
  },
  {
   "cell_type": "code",
   "execution_count": 9,
   "metadata": {},
   "outputs": [
    {
     "data": {
      "text/plain": [
       "NPVprime (generic function with 1 method)"
      ]
     },
     "execution_count": 9,
     "metadata": {},
     "output_type": "execute_result"
    }
   ],
   "source": [
    "function NPVprime(y,C,P,n)\n",
    "    NPVprime = 0\n",
    "    for i in n:-1:1\n",
    "        NPVprime = NPVprime+ ((i*C)/(1+y)^(1+i))\n",
    "    end\n",
    "    return -NPVprime\n",
    "end"
   ]
  },
  {
   "cell_type": "code",
   "execution_count": 10,
   "metadata": {},
   "outputs": [
    {
     "data": {
      "text/plain": [
       "-508.06735552361886"
      ]
     },
     "execution_count": 10,
     "metadata": {},
     "output_type": "execute_result"
    }
   ],
   "source": [
    "fprime = NPVprime(0.01,10,100,10)"
   ]
  },
  {
   "cell_type": "markdown",
   "metadata": {},
   "source": [
    "## Custom Function for Newton Ralphson Method"
   ]
  },
  {
   "cell_type": "code",
   "execution_count": 11,
   "metadata": {},
   "outputs": [
    {
     "data": {
      "text/plain": [
       "newton (generic function with 2 methods)"
      ]
     },
     "execution_count": 11,
     "metadata": {},
     "output_type": "execute_result"
    }
   ],
   "source": [
    "function newton(f::Function, x0::Number, fprime::Function, args::Tuple=();\n",
    "                tol::AbstractFloat=1e-8, maxiter::Integer=50, eps::AbstractFloat=1e-10)    \n",
    "    for _ in 1:maxiter\n",
    "        yprime = fprime(x0, args...)\n",
    "        if abs(yprime) < eps\n",
    "            warn(\"First derivative is zero\")\n",
    "            return x0\n",
    "        end\n",
    "        y = f(x0, args...)\n",
    "        x1 = x0 - y/yprime\n",
    "        if abs(x1-x0) < tol\n",
    "            return x1\n",
    "        end\n",
    "        x0 = x1\n",
    "    end\n",
    "    error(\"Max iteration exceeded\")\n",
    "end"
   ]
  },
  {
   "cell_type": "markdown",
   "metadata": {},
   "source": [
    "\\begin{equation*}\n",
    "\\text{Find roots for the equation:-}\n",
    "f(x) = x^2-2\n",
    "\\end{equation*}"
   ]
  },
  {
   "cell_type": "code",
   "execution_count": 12,
   "metadata": {
    "scrolled": true
   },
   "outputs": [
    {
     "data": {
      "text/plain": [
       "1.4142135623730951"
      ]
     },
     "execution_count": 12,
     "metadata": {},
     "output_type": "execute_result"
    }
   ],
   "source": [
    "(f1(x)=x^2-2; f1prime(x)=2x; x0=1; newton(f1,x0,f1prime))"
   ]
  },
  {
   "cell_type": "markdown",
   "metadata": {},
   "source": [
    "## Yield y  for C = 5, P = 100 , n = 10"
   ]
  },
  {
   "cell_type": "code",
   "execution_count": 13,
   "metadata": {},
   "outputs": [
    {
     "data": {
      "text/plain": [
       "-0.10956029368474335"
      ]
     },
     "execution_count": 13,
     "metadata": {},
     "output_type": "execute_result"
    }
   ],
   "source": [
    "y = newton(NPV,0,NPVprime,(5,100,10))"
   ]
  },
  {
   "cell_type": "code",
   "execution_count": 14,
   "metadata": {},
   "outputs": [
    {
     "data": {
      "text/plain": [
       "2.842170943040401e-14"
      ]
     },
     "execution_count": 14,
     "metadata": {},
     "output_type": "execute_result"
    }
   ],
   "source": [
    "NPV(y,5,100,10)"
   ]
  },
  {
   "cell_type": "markdown",
   "metadata": {},
   "source": [
    "# Summary \n",
    "## In this notebook we have learned about finding NPV and also yield from given NPV.  "
   ]
  },
  {
   "cell_type": "code",
   "execution_count": null,
   "metadata": {},
   "outputs": [],
   "source": []
  }
 ],
 "metadata": {
  "kernelspec": {
   "display_name": "Julia 0.6.4",
   "language": "julia",
   "name": "julia-0.6"
  },
  "language_info": {
   "file_extension": ".jl",
   "mimetype": "application/julia",
   "name": "julia",
   "version": "0.6.4"
  }
 },
 "nbformat": 4,
 "nbformat_minor": 2
}
